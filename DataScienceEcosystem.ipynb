{
 "cells": [
  {
   "cell_type": "markdown",
   "id": "f9afc5d4-0919-45c4-b5df-4322dd0c7781",
   "metadata": {},
   "source": [
    "# Data Science Tools and Ecosystem"
   ]
  },
  {
   "cell_type": "markdown",
   "id": "3fa3730b-e48e-4d57-be86-66e8a4f3ade2",
   "metadata": {},
   "source": [
    "In this notebook, Data Science Tools and Ecosystem are summarized."
   ]
  },
  {
   "cell_type": "markdown",
   "id": "79f38f46-a5a1-439c-8e6e-08bb2fd26779",
   "metadata": {},
   "source": [
    "**Objectives:** \n",
    "- Create markdown cell\n",
    "- Create an ordered list to markdown cell\n",
    "- Create a code cell \n",
    "- Create a heading style "
   ]
  },
  {
   "cell_type": "markdown",
   "id": "a3c33490-aa7c-4723-9195-598399ee9f5d",
   "metadata": {},
   "source": [
    "Some of the popular languages that Data Scientists use are:\n",
    "1. Python\n",
    "2. R\n",
    "3. SQL\n",
    "4. Scala\n",
    "5. Java\n",
    "6. C++\n",
    "7. Julia"
   ]
  },
  {
   "cell_type": "markdown",
   "id": "7a8f1ea8-2f0b-4dc4-97c7-7aa0b09b0892",
   "metadata": {},
   "source": [
    "Some of the commonly used libraries used by Data Scientists include:\n",
    "1. NumPy\n",
    "2. SciPy\n",
    "3. Matplotlib"
   ]
  },
  {
   "cell_type": "markdown",
   "id": "a0b5e5dc-8f22-4632-880f-052df47f9a73",
   "metadata": {},
   "source": [
    "| Data Science Tools  |\n",
    "| ------------------- |\n",
    "| Jupyter Notebook |\n",
    "| Anaconda |\n",
    "| R Studio |"
   ]
  },
  {
   "cell_type": "markdown",
   "id": "7422318d-b7c6-4f81-956c-e430150b2d64",
   "metadata": {},
   "source": [
    "### Below are a few examples of evaluating arithmetic expressions in Python"
   ]
  },
  {
   "cell_type": "code",
   "execution_count": 1,
   "id": "4abbb1fb-02b5-496d-9ac2-402f694acf67",
   "metadata": {},
   "outputs": [
    {
     "data": {
      "text/plain": [
       "17"
      ]
     },
     "execution_count": 1,
     "metadata": {},
     "output_type": "execute_result"
    }
   ],
   "source": [
    "# This a simple arithmetic expression to mutiply then add integers\n",
    "(3*4)+5"
   ]
  },
  {
   "cell_type": "code",
   "execution_count": 4,
   "id": "4b88612a-01fc-4f18-b913-2e90febea6b9",
   "metadata": {},
   "outputs": [
    {
     "data": {
      "text/plain": [
       "3"
      ]
     },
     "execution_count": 4,
     "metadata": {},
     "output_type": "execute_result"
    }
   ],
   "source": [
    "# This will convert 200 minutes to hours by diving by 60\n",
    "200//60"
   ]
  },
  {
   "cell_type": "markdown",
   "id": "5df11f79-90e5-460f-abb2-760fa4e88a48",
   "metadata": {},
   "source": [
    "## Author \n",
    "Yuliia Yatsenko"
   ]
  },
  {
   "cell_type": "code",
   "execution_count": null,
   "id": "d597eb44-7d43-4e62-9d93-346678cbbce6",
   "metadata": {},
   "outputs": [],
   "source": []
  }
 ],
 "metadata": {
  "kernelspec": {
   "display_name": "Python 3 (ipykernel)",
   "language": "python",
   "name": "python3"
  },
  "language_info": {
   "codemirror_mode": {
    "name": "ipython",
    "version": 3
   },
   "file_extension": ".py",
   "mimetype": "text/x-python",
   "name": "python",
   "nbconvert_exporter": "python",
   "pygments_lexer": "ipython3",
   "version": "3.11.9"
  }
 },
 "nbformat": 4,
 "nbformat_minor": 5
}
